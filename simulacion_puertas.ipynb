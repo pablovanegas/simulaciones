{
 "cells": [
  {
   "cell_type": "markdown",
   "metadata": {},
   "source": [
    "El concursante debe elegir una puerta entre tres (todas cerradas); el premio consiste en llevarse lo que se encuentra detrás de la elegida. Se sabe con certeza que tras una de ellas se oculta un automóvil, y tras las otras dos hay cabras. Una vez que el concursante haya elegido una puerta y comunicado su elección a los presentes, el presentador, que sabe lo que hay detrás de cada puerta, abrirá una de las otras dos, en la que habrá una cabra. A continuación, le da la opción al concursante de cambiar, si lo desea, de puerta (tiene dos opciones). ¿Debe el concursante mantener su elección original o escoger la otra puerta? ¿Hay alguna diferencia?"
   ]
  },
  {
   "cell_type": "markdown",
   "metadata": {},
   "source": [
    "Suposiciones iniciales\n",
    "Esta solución se basa en tres suposiciones básicas:\n",
    "\n",
    "- El presentador siempre abre una puerta,\n",
    "- Tras la que el presentador ha abierto siempre hay una cabra, puesto que conoce lo que hay detrás de cada puerta,\n",
    "- El presentador la escoge entre las dos restantes después de que el concursante haya escogido la suya."
   ]
  },
  {
   "cell_type": "code",
   "execution_count": 15,
   "metadata": {},
   "outputs": [
    {
     "name": "stdout",
     "output_type": "stream",
     "text": [
      "Simulaciones: 10000\n",
      "Probabilidad de ganar si se cambia: 0.6706 (6706 victorias)\n",
      "Probabilidad de ganar si no se cambia: 0.3333 (3333 victorias)\n"
     ]
    }
   ],
   "source": [
    "import random\n",
    "\n",
    "def monty_hall(cambio):\n",
    "    # Seleccionamos aleatoriamente la puerta con el premio\n",
    "    premio = random.randint(1, 3)\n",
    "\n",
    "    # El concursante selecciona una puerta\n",
    "    eleccion = random.randint(1, 3)\n",
    "\n",
    "    # Monty Hall abre una puerta que no sea la del premio ni la del concursante\n",
    "    for i in range(1, 4):\n",
    "        if i!= premio and i!= eleccion:\n",
    "            puerta_abierta = i\n",
    "            break #  Si i es diferente a la puerta con el premio y la seleccionada por el concursante, abrimos esa puerta\n",
    "\n",
    "    # Si el concursante decide cambiar, selecciona la otra puerta\n",
    "    if cambio:\n",
    "        for i in range(1, 4):\n",
    "            if i!= eleccion and i!= puerta_abierta:\n",
    "                eleccion = i\n",
    "                break \n",
    "\n",
    "    # Comprobamos si el concursante ganó\n",
    "    if eleccion == premio:\n",
    "        return True #true si gana \n",
    "    else:\n",
    "        return False #false si pierde\n",
    "\n",
    "# Simulamos el juego 10000 veces\n",
    "simulaciones = 10000\n",
    "cambio_gana = 0\n",
    "no_cambio_gana = 0\n",
    "\n",
    "for _ in range(simulaciones):\n",
    "    if monty_hall(True): \n",
    "        cambio_gana += 1\n",
    "    if monty_hall(False):\n",
    "        no_cambio_gana += 1\n",
    "\n",
    "# Calculamos la probabilidad de ganar\n",
    "probabilidad_cambio = cambio_gana / simulaciones\n",
    "probabilidad_no_cambio = no_cambio_gana / simulaciones\n",
    "\n",
    "print(f\"Probabilidad de ganar si se cambia: {probabilidad_cambio:.4f} ({cambio_gana} victorias)\")\n",
    "print(f\"Probabilidad de ganar si no se cambia: {probabilidad_no_cambio:.4f} ({no_cambio_gana} victorias)\")"
   ]
  },
  {
   "cell_type": "markdown",
   "metadata": {},
   "source": [
    "Cuando el anfitrión abre una puerta, las probabilidades para los dos conjuntos no cambian, pero las probabilidades se mueven a 0 para la puerta abierta; y 2/3 para la puerta cerrada"
   ]
  }
 ],
 "metadata": {
  "kernelspec": {
   "display_name": "Python 3",
   "language": "python",
   "name": "python3"
  },
  "language_info": {
   "codemirror_mode": {
    "name": "ipython",
    "version": 3
   },
   "file_extension": ".py",
   "mimetype": "text/x-python",
   "name": "python",
   "nbconvert_exporter": "python",
   "pygments_lexer": "ipython3",
   "version": "3.12.2"
  }
 },
 "nbformat": 4,
 "nbformat_minor": 2
}
