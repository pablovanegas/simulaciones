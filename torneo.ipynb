{
 "cells": [
  {
   "cell_type": "markdown",
   "metadata": {},
   "source": [
    "En un torneo de tenis juegan $k$ jugadores (alguna potencia de 2). Los jugadores son clasificados por las asociaciones mediante un puntaje que tiene en cuenta su rendimiento y la calidad de los torneos en que ha participado. Así tenemos que los $k$ jugadores tienen puntajes $p_1, p_2, \\cdots, p_k$. Suponga que la probabilidad que el jugador $i$ le gane al $j$ se puede aproximar como\n",
    "$$\n",
    "P(i \\text { gane a } j)=\\frac{p_i}{p_i+p_j}\n",
    "$$\n",
    "\n",
    "El torneo se estructura de la siguiente manera: El mejor jugador se enfrenta con el más malo, el segundo mejor con el segundo más malo, y así sucesivamente.\n",
    "\n",
    "torneo es de eliminación simple (jugador que pierde se va). En cada ronda se aplica la misma regla.\n",
    "\n",
    "Si tenemos 16 jugadores y sus puntajes son $900,870,740,730,720,715,710,700$, $650,630,600,550,500,480,450,400$, calcule:\n",
    "- La probabilidad que el jugador más malo gane el torneo.\n",
    "- Que el mejor jugador gane el torneo."
   ]
  },
  {
   "cell_type": "markdown",
   "metadata": {},
   "source": [
    "Para calcular las probabilidades, necesitamos considerar cada ronda del torneo por separado. En cada ronda, el jugador con el puntaje más alto se enfrenta al jugador con el puntaje más bajo, el segundo puntaje más alto se enfrenta al segundo puntaje más bajo, y así sucesivamente.\n",
    "\n"
   ]
  },
  {
   "cell_type": "code",
   "execution_count": 80,
   "metadata": {},
   "outputs": [
    {
     "name": "stdout",
     "output_type": "stream",
     "text": [
      "Probabilidad de que el jugador más malo gane el torneo:  0.029633021652362413\n",
      "Probabilidad de que el mejor jugador gane el torneo:  0.109331632285776\n"
     ]
    }
   ],
   "source": [
    "def calcular_probabilidad(puntajes):\n",
    "    \"\"\"\n",
    "    Calcula las probabilidades de ganar para cada jugador en un torneo.\n",
    "\n",
    "    Args:\n",
    "        puntajes (list): Una lista de puntajes de los jugadores.\n",
    "\n",
    "    Returns:\n",
    "        list: Una lista de probabilidades de ganar para cada jugador.\n",
    "    \"\"\"\n",
    "    # Ordenar los puntajes en orden descendente\n",
    "    puntajes.sort(reverse=True)\n",
    "\n",
    "    # Inicializar las probabilidades de ganar para cada jugador\n",
    "    probabilidad_ganar = [1] * len(puntajes)\n",
    "\n",
    "    # Para cada ronda del torneo\n",
    "    for ronda in range(int(len(puntajes)/2)):\n",
    "        # Para cada partido en la ronda\n",
    "        for i in range(int(len(puntajes)/2)):\n",
    "            # Calcular la probabilidad de que cada jugador gane el partido\n",
    "            probabilidad_ganar[i] *= puntajes[i] / (puntajes[i] + puntajes[-i-1])\n",
    "            probabilidad_ganar[-i-1] *= puntajes[-i-1] / (puntajes[i] + puntajes[-i-1])\n",
    "\n",
    "        # Eliminar a los jugadores que perdieron en esta ronda\n",
    "        puntajes = puntajes[:int(len(puntajes)/2)]\n",
    "\n",
    "    # Devolver las probabilidades de ganar para cada jugador\n",
    "    return probabilidad_ganar\n",
    "\n",
    "# Puntajes de los jugadores\n",
    "puntajes = [900,870,740,730,720,715,710,700,650,630,600,550,500,480,450,400]\n",
    "\n",
    "# Calcular las probabilidades\n",
    "probabilidades = calcular_probabilidad(puntajes)\n",
    "\n",
    "# Imprimir las probabilidades\n",
    "print(\"Probabilidad de que el jugador más malo gane el torneo: \", probabilidades[-1])\n",
    "print(\"Probabilidad de que el mejor jugador gane el torneo: \", probabilidades[0])\n"
   ]
  },
  {
   "cell_type": "markdown",
   "metadata": {},
   "source": [
    "Una forma equivalente de calcular la probabilidad de que un jugador gane a otro, basada en sus puntos. La fórmula original es:\n",
    "\n",
    "$$\n",
    "P(i \\text { gane a } j)=\\frac{p_i}{p_i+p_j}\n",
    "$$\n",
    "\n",
    "Donde $p_i$ y $p_j$ son los puntos de los jugadores $i$ y $j$, respectivamente. Esta fórmula se puede simplificar si dividimos ambos el numerador y el denominador por $p_j$, obteniendo:\n",
    "\n",
    "$$\n",
    "P(i \\text { gane a } j)=\\frac{\\frac{p_i}{p_j}}{\\frac{p_i}{p_j}+1}\n",
    "$$\n",
    "\n",
    "Ahora, si definimos $r_{ij} = \\frac{p_i}{p_j}$ como la razón de los puntos entre los jugadores $i$ y $j$, podemos escribir la fórmula anterior como:\n",
    "\n",
    "$$\n",
    "P(i \\text { gane a } j)=\\frac{r_{ij}}{r_{ij}+1}\n",
    "$$\n",
    "\n",
    "Esta es la fórmula que usa el código que te di, solo que en lugar de usar la razón de los puntos, usa directamente los puntos. Es decir, el código hace algo así:\n",
    "\n",
    "```python\n",
    "np.random.choice(ii, p=np.array(ii)/sum(ii))\n",
    "```\n",
    "\n",
    "Donde `ii` es una lista con los puntos de los dos jugadores que compiten, y `np.array(ii)/sum(ii)` es una lista con las probabilidades de que cada jugador gane, usando la fórmula que acabamos de ver. \\\n",
    "Ejemplo, si los puntos de los jugadores son 20 y 30, el código haría esto:\n",
    "\n",
    "```python\n",
    "np.random.choice([20, 30], p=[20/(20+30), 30/(20+30)])\n",
    "```\n",
    "\n",
    "Que es lo mismo que:\n",
    "\n",
    "```python\n",
    "np.random.choice([20, 30], p=[0.4, 0.6])\n",
    "```\n",
    "\n",
    "Estas probabilidades son las mismas que se obtienen usando la fórmula original:\n",
    "\n",
    "$$\n",
    "P(20 \\text { gane a } 30)=\\frac{20}{20+30}=0.4\n",
    "$$\n",
    "\n",
    "$$\n",
    "P(30 \\text { gane a } 20)=\\frac{30}{20+30}=0.6\n",
    "$$\n",
    "\n",
    "\n"
   ]
  },
  {
   "cell_type": "code",
   "execution_count": 1,
   "metadata": {},
   "outputs": [
    {
     "name": "stdout",
     "output_type": "stream",
     "text": [
      "La probabilidad de que el participante con el menor puntaje gane es 0.0155\n",
      "La probabilidad de que el participante con el mayor puntaje gane es 0.111\n"
     ]
    },
    {
     "data": {
      "image/png": "[encoded data removed]",
      "text/plain": [
       "<Figure size 640x480 with 1 Axes>"
      ]
     },
     "metadata": {},
     "output_type": "display_data"
    }
   ],
   "source": [
    "import numpy as np\n",
    "import matplotlib.pyplot as plt\n",
    "from collections import Counter\n",
    "\n",
    "def un_torneo(puntos):\n",
    "    \"\"\"\n",
    "    Simulates a tournament where players compete based on their points.\n",
    "\n",
    "    Args:\n",
    "        puntos (list): A list of points for each player.\n",
    "\n",
    "    Returns:\n",
    "        float: The final score of the winning player.\n",
    "    \"\"\"\n",
    "    n_jug = len(puntos)\n",
    "    for i in range(1, n_jug // 2 + 1):\n",
    "        if n_jug / (2**i) == 1:\n",
    "            break\n",
    "\n",
    "    puntos_temp = puntos\n",
    "    for j in range(i):\n",
    "        puntos_temp = sorted(puntos_temp) # Ordenar los puntajes\n",
    "        nn = len(puntos_temp) # Número de jugadores\n",
    "        nn_2 = nn // 2\n",
    "        jugadores = list(zip(puntos_temp[:nn_2], puntos_temp[nn_2:])) # Emparejar los jugadores\n",
    "        ganador = []\n",
    "        for ii in jugadores:\n",
    "            ganador.append(np.random.choice(ii, p=np.array(ii)/sum(ii))) # Elegir al ganador de cada pareja\n",
    "        puntos_temp = ganador\n",
    "\n",
    "    return puntos_temp[0]\n",
    "\n",
    "puntos_iniciales = [900, 870, 740, 730, 720, 715, 710, 700, 650, 630, 600, 550, 500, 480, 450, 400]\n",
    "num_simulaciones = 10000\n",
    "\n",
    "resultados = []\n",
    "for _ in range(num_simulaciones):\n",
    "    resultados.append(un_torneo(puntos_iniciales))\n",
    "\n",
    "\n",
    "temp = Counter(resultados) # Contar los resultados\n",
    "\n",
    "# Calcular las probabilidades\n",
    "prob_menor = temp[min(puntos_iniciales)] / num_simulaciones\n",
    "prob_mayor = temp[max(puntos_iniciales)] / num_simulaciones\n",
    "\n",
    "print(f\"La probabilidad de que el participante con el menor puntaje gane es {prob_menor}\")\n",
    "print(f\"La probabilidad de que el participante con el mayor puntaje gane es {prob_mayor}\")\n",
    "\n",
    "# Crear scatter plot de los resultados\n",
    "x = list(temp.keys())\n",
    "y = list(temp.values())\n",
    "plt.scatter(x, y)\n",
    "plt.title('Resultados del torneo')\n",
    "plt.xlabel('Puntos')\n",
    "plt.ylabel('Frecuencia')\n",
    "plt.show()\n"
   ]
  },
  {
   "cell_type": "markdown",
   "metadata": {},
   "source": [
    "Sin modificar la formula, se ve un comportamiento similar a lo antes calculado"
   ]
  },
  {
   "cell_type": "code",
   "execution_count": 2,
   "metadata": {},
   "outputs": [
    {
     "name": "stdout",
     "output_type": "stream",
     "text": [
      "\n",
      "Probabilidad de que el jugador más débil gane el torneo: 0.0288\n",
      "Probabilidad de que el mejor jugador gane el torneo: 0.0972\n"
     ]
    },
    {
     "data": {
      "image/png": "[encoded data removed]",
      "text/plain": [
       "<Figure size 640x480 with 1 Axes>"
      ]
     },
     "metadata": {},
     "output_type": "display_data"
    }
   ],
   "source": [
    "import numpy as np\n",
    "\n",
    "# Definimos los puntajes de los jugadores\n",
    "puntajes = [900, 870, 740, 730, 720, 715, 710, 700,\n",
    "            650, 630, 600, 550, 500, 480, 450, 400]\n",
    "\n",
    "# Función para calcular la probabilidad de que el jugador i le gane al jugador j\n",
    "def calcular_probabilidad(i, j):\n",
    "    return puntajes[i] / (puntajes[i] + puntajes[j])\n",
    "\n",
    "# Función para simular un enfrentamiento entre dos jugadores\n",
    "def enfrentamiento(i, j):\n",
    "    prob_i_gane = calcular_probabilidad(i, j)\n",
    "    return np.random.choice([i, j], p=[prob_i_gane, 1 - prob_i_gane])\n",
    "\n",
    "# Función para simular un torneo de eliminación simple\n",
    "def simular_torneo():\n",
    "    # Inicializamos la lista de jugadores\n",
    "    jugadores = list(range(len(puntajes)))\n",
    "    \n",
    "    # Mientras quede más de un jugador en la lista\n",
    "    while len(jugadores) > 1:\n",
    "        proxima_ronda = []\n",
    "        # Iteramos sobre la lista de jugadores de dos en dos\n",
    "        for i in range(0, len(jugadores), 2):\n",
    "            # Simulamos un enfrentamiento entre los jugadores i y i+1\n",
    "            ganador = enfrentamiento(jugadores[i], jugadores[i+1])\n",
    "            # Agregamos al ganador a la próxima ronda\n",
    "            proxima_ronda.append(ganador)\n",
    "        # Los jugadores que ganaron pasan a ser los jugadores de la próxima ronda\n",
    "        jugadores = proxima_ronda\n",
    "    # Devolvemos al único jugador restante (el ganador del torneo)\n",
    "    return jugadores[0]\n",
    "\n",
    "# Función para simular el torneo n veces y contar cuántas veces gana cada jugador\n",
    "def simular_varias_veces(n):\n",
    "    conteo_ganadores = [0] * len(puntajes)\n",
    "    for _ in range(n):\n",
    "        ganador = simular_torneo()\n",
    "        conteo_ganadores[ganador] += 1\n",
    "    return conteo_ganadores\n",
    "\n",
    "# Simulamos el torneo 10000 veces\n",
    "n_simulaciones = 10000\n",
    "conteo_ganadores = simular_varias_veces(n_simulaciones)\n",
    "\n",
    "# Calculamos las probabilidades de ganar para cada jugador\n",
    "probabilidades_ganar = [conteo / n_simulaciones for conteo in conteo_ganadores]\n",
    "\n",
    "# La probabilidad de que el jugador más débil gane el torneo es la probabilidad de que el último jugador gane\n",
    "probabilidad_jugador_malo = probabilidades_ganar[-1]\n",
    "print(f\"\\nProbabilidad de que el jugador más débil gane el torneo: {probabilidad_jugador_malo:.4f}\")\n",
    "\n",
    "# La probabilidad de que el mejor jugador gane el torneo es la probabilidad de que el primer jugador gane\n",
    "probabilidad_mejor_jugador = probabilidades_ganar[0]\n",
    "print(f\"Probabilidad de que el mejor jugador gane el torneo: {probabilidad_mejor_jugador:.4f}\")\n",
    "\n",
    "\n",
    "# Plot Scatter\n",
    "import matplotlib.pyplot as plt\n",
    "\n",
    "x = puntajes\n",
    "y = probabilidades_ganar\n",
    "plt.scatter(x, y)\n",
    "plt.title('Probabilidades de ganar el torneo')\n",
    "plt.xlabel('Puntaje')\n",
    "plt.ylabel('Probabilidad de ganar')\n",
    "plt.show()\n",
    "\n",
    "\n"
   ]
  }
 ],
 "metadata": {
  "kernelspec": {
   "display_name": "Python 3",
   "language": "python",
   "name": "python3"
  },
  "language_info": {
   "codemirror_mode": {
    "name": "ipython",
    "version": 3
   },
   "file_extension": ".py",
   "mimetype": "text/x-python",
   "name": "python",
   "nbconvert_exporter": "python",
   "pygments_lexer": "ipython3",
   "version": "3.10.9"
  }
 },
 "nbformat": 4,
 "nbformat_minor": 2
}
