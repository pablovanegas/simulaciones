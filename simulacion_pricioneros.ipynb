{
 "cells": [
  {
   "cell_type": "markdown",
   "metadata": {},
   "source": [
    "Tres presos en régimen de aislamiento, A, B y C, han sido condenados a muerte el mismo día pero, como hay una fiesta nacional, el gobernador decide que a uno de ellos se le indulto. Los presos son informados de ello, pero se les dice que que no sabrán cuál de ellos va a ser indultado hasta el día previsto para las ejecuciones.\n"
   ]
  },
  {
   "cell_type": "code",
   "execution_count": 99,
   "metadata": {},
   "outputs": [
    {
     "name": "stdout",
     "output_type": "stream",
     "text": [
      "Simulaciones: 10000\n",
      "Probabilidad de ser indultado si se cambia: 0.6662 (6662 indultos)\n",
      "Probabilidad de ser indultado si no se cambia: 0.3255 (3255 indultos)\n"
     ]
    }
   ],
   "source": [
    "import random\n",
    "\n",
    "def paradoja_prisionero(cambio):\n",
    "    indultado = random.choice(['A', 'B', 'C'])\n",
    "\n",
    "    # El prisionero A selecciona una opción (él mismo)\n",
    "    eleccion = 'A'\n",
    "\n",
    "    # El carcelero revela un prisionero que será ejecutado (que no sea A ni el indultado)\n",
    "    posibles_ejecutados = [p for p in ['B', 'C'] if p != indultado]\n",
    "    ejecutado = random.choice(posibles_ejecutados)\n",
    "\n",
    "    # Si el prisionero A decide cambiar, selecciona la otra opción\n",
    "    if cambio:\n",
    "        eleccion = [p for p in ['A', 'B', 'C'] if p != eleccion and p != ejecutado][0]\n",
    "\n",
    "    # Comprobamos si el prisionero A fue indultado\n",
    "    return eleccion == indultado\n",
    "\n",
    "# Simulamos el escenario 10000 veces\n",
    "simulaciones = 10000\n",
    "cambio_gana = 0\n",
    "no_cambio_gana = 0\n",
    "\n",
    "# Simulamos el escenario de cambiar de posición\n",
    "for _ in range(simulaciones):\n",
    "    if paradoja_prisionero(True):\n",
    "        cambio_gana += 1\n",
    "\n",
    "# Simulamos el escenario de no cambiar de posición\n",
    "for _ in range(simulaciones):\n",
    "    if paradoja_prisionero(False):\n",
    "        no_cambio_gana += 1\n",
    "\n",
    "# Calculamos la probabilidad de ser indultado\n",
    "probabilidad_cambio = cambio_gana / simulaciones\n",
    "probabilidad_no_cambio = no_cambio_gana / simulaciones\n",
    "\n",
    "print(f\"Probabilidad de ser indultado si se cambia: {probabilidad_cambio:.4f} ({cambio_gana} indultos)\")\n",
    "print(f\"Probabilidad de ser indultado si no se cambia: {probabilidad_no_cambio:.4f} ({no_cambio_gana} indultos)\")\n"
   ]
  }
 ],
 "metadata": {
  "kernelspec": {
   "display_name": "Python 3",
   "language": "python",
   "name": "python3"
  },
  "language_info": {
   "codemirror_mode": {
    "name": "ipython",
    "version": 3
   },
   "file_extension": ".py",
   "mimetype": "text/x-python",
   "name": "python",
   "nbconvert_exporter": "python",
   "pygments_lexer": "ipython3",
   "version": "3.12.2"
  }
 },
 "nbformat": 4,
 "nbformat_minor": 2
}
